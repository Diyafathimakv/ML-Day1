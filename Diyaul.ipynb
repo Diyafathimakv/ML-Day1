{
  "nbformat": 4,
  "nbformat_minor": 0,
  "metadata": {
    "colab": {
      "provenance": [],
      "authorship_tag": "ABX9TyPWvCHUf4O92bKZz+AIUYP9",
      "include_colab_link": true
    },
    "kernelspec": {
      "name": "python3",
      "display_name": "Python 3"
    },
    "language_info": {
      "name": "python"
    }
  },
  "cells": [
    {
      "cell_type": "markdown",
      "metadata": {
        "id": "view-in-github",
        "colab_type": "text"
      },
      "source": [
        "<a href=\"https://colab.research.google.com/github/Diyafathimakv/ML-Day1/blob/main/Diyaul.ipynb\" target=\"_parent\"><img src=\"https://colab.research.google.com/assets/colab-badge.svg\" alt=\"Open In Colab\"/></a>"
      ]
    },
    {
      "cell_type": "code",
      "execution_count": null,
      "metadata": {
        "colab": {
          "base_uri": "https://localhost:8080/"
        },
        "id": "nthD0G4slIbU",
        "outputId": "8a54ee4b-8f16-48e7-c8c5-029790d1e68f"
      },
      "outputs": [
        {
          "output_type": "stream",
          "name": "stdout",
          "text": [
            "enter a expression 1 * 2\n",
            "x * y =  2\n"
          ]
        }
      ],
      "source": [
        "class Calculator:\n",
        "  def add(x,y):\n",
        "    return x+y\n",
        "  def sub(x,y):\n",
        "    return x-y\n",
        "  def mul(x,y):\n",
        "    return x*y\n",
        "  def div(x,y):\n",
        "    if y!=0:\n",
        "      return x/y\n",
        "    else:\n",
        "      return(\"Cannot be divided by zero\")\n",
        "\n",
        "c=input(\"enter a expression \")\n",
        "op=c.split()\n",
        "operand=op[1]\n",
        "x=int (op[0])\n",
        "y=int (op[2])\n",
        "\n",
        "if operand=='+':\n",
        "  print(\"x + y = \",Calculator.add(x,y))\n",
        "elif operand=='-':\n",
        "  print(\"x - y = \",Calculator.sub(x,y))\n",
        "elif operand=='*':\n",
        "  print(\"x * y = \",Calculator.mul(x,y))\n",
        "elif operand=='/':\n",
        "  print(\"x / y = \",Calculator.div(x,y))\n",
        "else:\n",
        "  print(\"enter a correct value\")\n",
        "\n"
      ]
    },
    {
      "cell_type": "code",
      "source": [
        "!pip install simplecalculator"
      ],
      "metadata": {
        "colab": {
          "base_uri": "https://localhost:8080/"
        },
        "id": "X4zl8x0jAqiD",
        "outputId": "62ef9e8f-0def-4a5a-d248-e0001fc3373d"
      },
      "execution_count": null,
      "outputs": [
        {
          "output_type": "stream",
          "name": "stdout",
          "text": [
            "Collecting simplecalculator\n",
            "  Downloading simplecalculator-0.0.4.tar.gz (2.8 kB)\n",
            "  Preparing metadata (setup.py) ... \u001b[?25l\u001b[?25hdone\n",
            "Building wheels for collected packages: simplecalculator\n",
            "  Building wheel for simplecalculator (setup.py) ... \u001b[?25l\u001b[?25hdone\n",
            "  Created wheel for simplecalculator: filename=simplecalculator-0.0.4-py3-none-any.whl size=2791 sha256=b23b1246fc17f4f7af945403f9d735c082c9c30303c90af6980b6963fa29f6af\n",
            "  Stored in directory: /root/.cache/pip/wheels/59/de/60/189b14b16ddcf44f7ccb372b5dadd1ae8989dde101992927e3\n",
            "Successfully built simplecalculator\n",
            "Installing collected packages: simplecalculator\n",
            "Successfully installed simplecalculator-0.0.4\n"
          ]
        }
      ]
    },
    {
      "cell_type": "code",
      "source": [
        "!pip install sympy\n"
      ],
      "metadata": {
        "colab": {
          "base_uri": "https://localhost:8080/"
        },
        "id": "Ynw1F-iBDL_r",
        "outputId": "49c41c60-70da-4f3b-ae3c-dace884d295b"
      },
      "execution_count": null,
      "outputs": [
        {
          "output_type": "stream",
          "name": "stdout",
          "text": [
            "Requirement already satisfied: sympy in /usr/local/lib/python3.10/dist-packages (1.12)\n",
            "Requirement already satisfied: mpmath>=0.19 in /usr/local/lib/python3.10/dist-packages (from sympy) (1.3.0)\n"
          ]
        }
      ]
    },
    {
      "cell_type": "code",
      "source": [
        "import sympy as sp\n",
        "expression=input(\"enter the expression\")\n",
        "print(f\"the {expression} is {sp.sympify(expression)}\")\n"
      ],
      "metadata": {
        "colab": {
          "base_uri": "https://localhost:8080/"
        },
        "id": "ZAF0Ee8tDaQ-",
        "outputId": "391e67d2-2887-4037-b6c9-193218d0d933"
      },
      "execution_count": null,
      "outputs": [
        {
          "output_type": "stream",
          "name": "stdout",
          "text": [
            "enter the expression2*3\n",
            "the 2*3 is 6\n"
          ]
        }
      ]
    },
    {
      "cell_type": "code",
      "source": [],
      "metadata": {
        "id": "3h7lMlEa4h1L"
      },
      "execution_count": null,
      "outputs": []
    },
    {
      "cell_type": "code",
      "source": [
        "pip install sumy"
      ],
      "metadata": {
        "colab": {
          "base_uri": "https://localhost:8080/"
        },
        "id": "BcbAv59H4ki5",
        "outputId": "53b99d12-1fcd-42fe-8909-194c9ef7a781"
      },
      "execution_count": null,
      "outputs": [
        {
          "output_type": "stream",
          "name": "stdout",
          "text": [
            "Collecting sumy\n",
            "  Downloading sumy-0.11.0-py2.py3-none-any.whl (97 kB)\n",
            "\u001b[?25l     \u001b[90m━━━━━━━━━━━━━━━━━━━━━━━━━━━━━━━━━━━━━━━━\u001b[0m \u001b[32m0.0/97.3 kB\u001b[0m \u001b[31m?\u001b[0m eta \u001b[36m-:--:--\u001b[0m\r\u001b[2K     \u001b[90m━━━━━━━━━━━━━━━━━━━━━━━━━━━━━━━━━━━━━━━━\u001b[0m \u001b[32m97.3/97.3 kB\u001b[0m \u001b[31m3.2 MB/s\u001b[0m eta \u001b[36m0:00:00\u001b[0m\n",
            "\u001b[?25hCollecting docopt<0.7,>=0.6.1 (from sumy)\n",
            "  Downloading docopt-0.6.2.tar.gz (25 kB)\n",
            "  Preparing metadata (setup.py) ... \u001b[?25l\u001b[?25hdone\n",
            "Collecting breadability>=0.1.20 (from sumy)\n",
            "  Downloading breadability-0.1.20.tar.gz (32 kB)\n",
            "  Preparing metadata (setup.py) ... \u001b[?25l\u001b[?25hdone\n",
            "Requirement already satisfied: requests>=2.7.0 in /usr/local/lib/python3.10/dist-packages (from sumy) (2.31.0)\n",
            "Collecting pycountry>=18.2.23 (from sumy)\n",
            "  Downloading pycountry-23.12.11-py3-none-any.whl (6.2 MB)\n",
            "\u001b[2K     \u001b[90m━━━━━━━━━━━━━━━━━━━━━━━━━━━━━━━━━━━━━━━━\u001b[0m \u001b[32m6.2/6.2 MB\u001b[0m \u001b[31m20.8 MB/s\u001b[0m eta \u001b[36m0:00:00\u001b[0m\n",
            "\u001b[?25hRequirement already satisfied: nltk>=3.0.2 in /usr/local/lib/python3.10/dist-packages (from sumy) (3.8.1)\n",
            "Requirement already satisfied: chardet in /usr/local/lib/python3.10/dist-packages (from breadability>=0.1.20->sumy) (5.2.0)\n",
            "Requirement already satisfied: lxml>=2.0 in /usr/local/lib/python3.10/dist-packages (from breadability>=0.1.20->sumy) (4.9.4)\n",
            "Requirement already satisfied: click in /usr/local/lib/python3.10/dist-packages (from nltk>=3.0.2->sumy) (8.1.7)\n",
            "Requirement already satisfied: joblib in /usr/local/lib/python3.10/dist-packages (from nltk>=3.0.2->sumy) (1.3.2)\n",
            "Requirement already satisfied: regex>=2021.8.3 in /usr/local/lib/python3.10/dist-packages (from nltk>=3.0.2->sumy) (2023.12.25)\n",
            "Requirement already satisfied: tqdm in /usr/local/lib/python3.10/dist-packages (from nltk>=3.0.2->sumy) (4.66.2)\n",
            "Requirement already satisfied: charset-normalizer<4,>=2 in /usr/local/lib/python3.10/dist-packages (from requests>=2.7.0->sumy) (3.3.2)\n",
            "Requirement already satisfied: idna<4,>=2.5 in /usr/local/lib/python3.10/dist-packages (from requests>=2.7.0->sumy) (3.6)\n",
            "Requirement already satisfied: urllib3<3,>=1.21.1 in /usr/local/lib/python3.10/dist-packages (from requests>=2.7.0->sumy) (2.0.7)\n",
            "Requirement already satisfied: certifi>=2017.4.17 in /usr/local/lib/python3.10/dist-packages (from requests>=2.7.0->sumy) (2024.2.2)\n",
            "Building wheels for collected packages: breadability, docopt\n",
            "  Building wheel for breadability (setup.py) ... \u001b[?25l\u001b[?25hdone\n",
            "  Created wheel for breadability: filename=breadability-0.1.20-py2.py3-none-any.whl size=21693 sha256=6925327e84c76bb453813b5c14162372332f95bbf2a4665f90c378be8a99a666\n",
            "  Stored in directory: /root/.cache/pip/wheels/64/22/90/b84fcc30e16598db20a0d41340616dbf9b1e82bbcc627b0b33\n",
            "  Building wheel for docopt (setup.py) ... \u001b[?25l\u001b[?25hdone\n",
            "  Created wheel for docopt: filename=docopt-0.6.2-py2.py3-none-any.whl size=13706 sha256=c4f38b4f54253b9e869e9563c3b9e4cd43333ba341b8dfdd1407aa48386ed5c1\n",
            "  Stored in directory: /root/.cache/pip/wheels/fc/ab/d4/5da2067ac95b36618c629a5f93f809425700506f72c9732fac\n",
            "Successfully built breadability docopt\n",
            "Installing collected packages: docopt, pycountry, breadability, sumy\n",
            "Successfully installed breadability-0.1.20 docopt-0.6.2 pycountry-23.12.11 sumy-0.11.0\n"
          ]
        }
      ]
    },
    {
      "cell_type": "code",
      "source": [
        "\n",
        "import sumy\n",
        "text=input(\"enter the text \")\n",
        "from sumy.summarizers.lex_rank import LexRankSummarizer\n",
        "\n"
      ],
      "metadata": {
        "colab": {
          "base_uri": "https://localhost:8080/"
        },
        "id": "SbrzqcX242j-",
        "outputId": "39164ee7-41ae-4c3b-e290-fe6e5c65f055"
      },
      "execution_count": null,
      "outputs": [
        {
          "name": "stdout",
          "output_type": "stream",
          "text": [
            "enter the text Artificial Intelligence (AI) is developing and advancing right before our very eyes. It has aggressively integrated into our society as it contributes heavily to a plethora of fields such as medical, legal, military, and government. Although AI is used universally as a resource and tool, it is less certain how advanced and dependable it will become. Likewise, society is still determining the implications it will have on the global dynamic.   Diplomatic figures and institutes have utilized AI to enhance productivity and facilitate international development and diplomatic efforts. Diplomats who have served in various regions of the world have shared with ADST their views of AI in the workplace, the global sphere, and what the future could look like. This “Moment in U.S. Diplomatic History” will explore various diplomatic perspectives on AI over the time of its development and includes excerpts from the following ADST oral histories: Leslie Gerson (2007), a career consular officer, discusses how she wished she had more technological knowledge when she went to Sandia Labs since it would have aided in her understanding of AI; Keith Curtis (2018), who was acting senior commercial officer for a number of years, shares his viewpoint on how the future is not in AI but in aerospace; Richard Virden (2011), a National War College faculty member, discusses how AI contributes heavily to the military and the military-industrial-complex and questions if Congress is making the right decisions in allocating large amounts of money to combative efforts rather than countering cyberwarfare; and Jack Shellenberger (1990), the former director of programs at Voice of America, who remarks on the international development of AI in the context of political and trade relationships.\n"
          ]
        }
      ]
    },
    {
      "cell_type": "code",
      "source": [
        "import math\n",
        "\n",
        "class Calculator:\n",
        "    @staticmethod\n",
        "    def add(x, y):\n",
        "        return x + y\n",
        "\n",
        "    @staticmethod\n",
        "    def sub(x, y):\n",
        "        return x - y\n",
        "\n",
        "    @staticmethod\n",
        "    def mul(x, y):\n",
        "        return x * y\n",
        "\n",
        "    @staticmethod\n",
        "    def div(x, y):\n",
        "        if y != 0:\n",
        "            return x / y\n",
        "        else:\n",
        "            return \"Cannot be divided by zero\"\n",
        "\n",
        "    @staticmethod\n",
        "    def sqrt(x):\n",
        "        return math.sqrt(x)\n",
        "\n",
        "    @staticmethod\n",
        "    def power(x, y):\n",
        "        return math.pow(x, y)\n",
        "\n",
        "operation = input(\"Enter the operation in the format 'number1 operator number2' (e.g., 1 + 2): \")\n",
        "\n",
        "operands = operation.split()\n",
        "x = float(operands[0])\n",
        "y = float(operands[2])\n",
        "op = operands[1]\n",
        "\n",
        "result = None\n",
        "if op == '+':\n",
        "    result = Calculator.add(x, y)\n",
        "elif op == '-':\n",
        "    result = Calculator.sub(x, y)\n",
        "elif op == '*':\n",
        "    result = Calculator.mul(x, y)\n",
        "elif op == '/':\n",
        "    result = Calculator.div(x, y)\n",
        "elif op == 'sqrt':\n",
        "    result = Calculator.sqrt(x)\n",
        "elif op == 'pow':\n",
        "    result = Calculator.power(x, y)\n",
        "else:\n",
        "    print(\"Invalid operator\")\n",
        "\n",
        "if result is not None:\n",
        "    print(f\"The result of {operation} is {result}\")"
      ],
      "metadata": {
        "colab": {
          "base_uri": "https://localhost:8080/"
        },
        "id": "UKZ7xVtDGGRM",
        "outputId": "fc3e281e-c9d5-4842-aa49-8f7d9fb5959c"
      },
      "execution_count": null,
      "outputs": [
        {
          "output_type": "stream",
          "name": "stdout",
          "text": [
            "Enter the operation in the format 'number1 operator number2' (e.g., 1 + 2): 4 sqrt 0\n",
            "The result of 4 sqrt 0 is 2.0\n"
          ]
        }
      ]
    }
  ]
}