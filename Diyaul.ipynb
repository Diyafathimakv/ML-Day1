{
  "nbformat": 4,
  "nbformat_minor": 0,
  "metadata": {
    "colab": {
      "provenance": [],
      "authorship_tag": "ABX9TyM1SwBYZtyziKJq/AZVrl30",
      "include_colab_link": true
    },
    "kernelspec": {
      "name": "python3",
      "display_name": "Python 3"
    },
    "language_info": {
      "name": "python"
    }
  },
  "cells": [
    {
      "cell_type": "markdown",
      "metadata": {
        "id": "view-in-github",
        "colab_type": "text"
      },
      "source": [
        "<a href=\"https://colab.research.google.com/github/Diyafathimakv/ML-Day1/blob/main/Diyaul.ipynb\" target=\"_parent\"><img src=\"https://colab.research.google.com/assets/colab-badge.svg\" alt=\"Open In Colab\"/></a>"
      ]
    },
    {
      "cell_type": "code",
      "execution_count": 28,
      "metadata": {
        "colab": {
          "base_uri": "https://localhost:8080/"
        },
        "id": "nthD0G4slIbU",
        "outputId": "8a54ee4b-8f16-48e7-c8c5-029790d1e68f"
      },
      "outputs": [
        {
          "output_type": "stream",
          "name": "stdout",
          "text": [
            "enter a expression 1 * 2\n",
            "x * y =  2\n"
          ]
        }
      ],
      "source": [
        "class Calculator:\n",
        "  def add(x,y):\n",
        "    return x+y\n",
        "  def sub(x,y):\n",
        "    return x-y\n",
        "  def mul(x,y):\n",
        "    return x*y\n",
        "  def div(x,y):\n",
        "    if y!=0:\n",
        "      return x/y\n",
        "    else:\n",
        "      return(\"Cannot be divided by zero\")\n",
        "\n",
        "c=input(\"enter a expression \")\n",
        "op=c.split()\n",
        "operand=op[1]\n",
        "x=int (op[0])\n",
        "y=int (op[2])\n",
        "\n",
        "if operand=='+':\n",
        "  print(\"x + y = \",Calculator.add(x,y))\n",
        "elif operand=='-':\n",
        "  print(\"x - y = \",Calculator.sub(x,y))\n",
        "elif operand=='*':\n",
        "  print(\"x * y = \",Calculator.mul(x,y))\n",
        "elif operand=='/':\n",
        "  print(\"x / y = \",Calculator.div(x,y))\n",
        "else:\n",
        "  print(\"enter a correct value\")\n",
        "\n"
      ]
    }
  ]
}